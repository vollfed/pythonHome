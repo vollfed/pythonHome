{
 "cells": [
  {
   "cell_type": "code",
   "execution_count": 83,
   "metadata": {},
   "outputs": [],
   "source": [
    "from lxml import html\n",
    "import re\n",
    "import requests\n",
    "import numpy as np\n",
    "import pandas as pd\n",
    "\n",
    "page = requests.get('https://bcs-express.ru/dividednyj-kalendar')\n",
    "tree = html.fromstring(page.content)"
   ]
  },
  {
   "cell_type": "code",
   "execution_count": 127,
   "metadata": {},
   "outputs": [],
   "source": [
    "def cleanData(text):\n",
    "    text = re.sub(r'[\\n]+', '', text)\n",
    "    text = re.sub(r'[\\s]+', ' ', text)\n",
    "    return text.strip()\n",
    "\n",
    "namesXML = tree.xpath('//div[@class=\"dividends-table__row _item\"]//div[@class=\"dividends-table__cell _title _toggle js-div-table-toggle\"]/text()')\n",
    "datesXML = tree.xpath('//div[@class=\"dividends-table__row _item\"]//div[@class=\"dividends-table__cell _close-date\"]/span[@class=\"dividends-table__value\"]/text()')\n",
    "valueXML = tree.xpath('//div[@class=\"dividends-table__item js-div-table-item\"]/div[@class=\"dividends-table__row _item\"]/div[@class=\"dividends-table__cell _value\"]/text()')\n",
    "priceXML = tree.xpath('//div[@class=\"dividends-table__row _item\"]//div[@class=\"dividends-table__cell _price\"]//span[@class=\"dividends-table__value\"]/text()')\n",
    "\n",
    "names = [cleanData(str(s)) for s in namesXML]\n",
    "dates = [cleanData(str(s)) for s in datesXML]\n",
    "value = [cleanData(str(s)) for s in valueXML]\n",
    "price = [cleanData(str(s)) for s in priceXML]\n",
    "\n"
   ]
  },
  {
   "cell_type": "code",
   "execution_count": 132,
   "metadata": {},
   "outputs": [],
   "source": [
    "my_dict ={'names':names,\n",
    "         'dates':dates,\n",
    "         'value':value,\n",
    "         'price':price\n",
    "        }\n",
    "\n",
    "#print(ttt)\n",
    "df = pd.DataFrame (my_dict, columns = ['names','dates','value','price'])\n",
    "\n",
    "#df.to_csv(\"test.csv\",encoding='utf-8-sig')"
   ]
  },
  {
   "cell_type": "code",
   "execution_count": 155,
   "metadata": {},
   "outputs": [],
   "source": [
    "df.to_csv(\"test.csv\",encoding='utf-8-sig')"
   ]
  },
  {
   "cell_type": "code",
   "execution_count": 153,
   "metadata": {},
   "outputs": [],
   "source": [
    "foo = [str for str in df.names if (\"флот\" in str)]"
   ]
  },
  {
   "cell_type": "code",
   "execution_count": 199,
   "metadata": {},
   "outputs": [],
   "source": [
    "mySharesArr = ['Магнит','Сбербанк а.о']\n",
    "mySharesCnt = [750,100]\n",
    "mySharesIsPresent = np.zeros(len(df.names))"
   ]
  },
  {
   "cell_type": "code",
   "execution_count": 196,
   "metadata": {},
   "outputs": [
    {
     "data": {
      "text/plain": [
       "'Магнит'"
      ]
     },
     "execution_count": 196,
     "metadata": {},
     "output_type": "execute_result"
    }
   ],
   "source": [
    "mySharesArr[\"гнит\" in my_shares]"
   ]
  },
  {
   "cell_type": "code",
   "execution_count": 197,
   "metadata": {},
   "outputs": [],
   "source": [
    "isSharesPresent = [max ([myShare in str  for myShare in mySharesArr] )for str in df.names.values]"
   ]
  },
  {
   "cell_type": "code",
   "execution_count": 188,
   "metadata": {},
   "outputs": [],
   "source": []
  },
  {
   "cell_type": "code",
   "execution_count": 200,
   "metadata": {},
   "outputs": [],
   "source": [
    "mySharesIsPresent[isSharesPresent]=1\n"
   ]
  },
  {
   "cell_type": "code",
   "execution_count": null,
   "metadata": {},
   "outputs": [],
   "source": [
    "[for share in mySharesIsPresent]"
   ]
  },
  {
   "cell_type": "code",
   "execution_count": 201,
   "metadata": {},
   "outputs": [],
   "source": [
    "df['portfolio'] = mySharesPresent"
   ]
  },
  {
   "cell_type": "code",
   "execution_count": 202,
   "metadata": {},
   "outputs": [
    {
     "data": {
      "text/html": [
       "<div>\n",
       "<style scoped>\n",
       "    .dataframe tbody tr th:only-of-type {\n",
       "        vertical-align: middle;\n",
       "    }\n",
       "\n",
       "    .dataframe tbody tr th {\n",
       "        vertical-align: top;\n",
       "    }\n",
       "\n",
       "    .dataframe thead th {\n",
       "        text-align: right;\n",
       "    }\n",
       "</style>\n",
       "<table border=\"1\" class=\"dataframe\">\n",
       "  <thead>\n",
       "    <tr style=\"text-align: right;\">\n",
       "      <th></th>\n",
       "      <th>names</th>\n",
       "      <th>dates</th>\n",
       "      <th>value</th>\n",
       "      <th>price</th>\n",
       "      <th>portfolio</th>\n",
       "    </tr>\n",
       "  </thead>\n",
       "  <tbody>\n",
       "    <tr>\n",
       "      <th>0</th>\n",
       "      <td>Норильский Никель ао 2019</td>\n",
       "      <td>25.05.2020</td>\n",
       "      <td>557,2</td>\n",
       "      <td>20104</td>\n",
       "      <td>0.0</td>\n",
       "    </tr>\n",
       "    <tr>\n",
       "      <th>1</th>\n",
       "      <td>TCS Group (Тинькофф) I кв. 2020</td>\n",
       "      <td>29.05.2020</td>\n",
       "      <td>$0,14</td>\n",
       "      <td>1049,6</td>\n",
       "      <td>0.0</td>\n",
       "    </tr>\n",
       "    <tr>\n",
       "      <th>2</th>\n",
       "      <td>X5 Retail 2019</td>\n",
       "      <td>29.05.2020</td>\n",
       "      <td>110,47</td>\n",
       "      <td>2216</td>\n",
       "      <td>0.0</td>\n",
       "    </tr>\n",
       "    <tr>\n",
       "      <th>3</th>\n",
       "      <td>ФСК ЕЭС ао 2019</td>\n",
       "      <td>29.05.2020</td>\n",
       "      <td>0,009494338</td>\n",
       "      <td>0,18694</td>\n",
       "      <td>0.0</td>\n",
       "    </tr>\n",
       "    <tr>\n",
       "      <th>4</th>\n",
       "      <td>Интер РАО ао 2019</td>\n",
       "      <td>01.06.2020</td>\n",
       "      <td>0,196192529</td>\n",
       "      <td>4,656</td>\n",
       "      <td>0.0</td>\n",
       "    </tr>\n",
       "    <tr>\n",
       "      <th>...</th>\n",
       "      <td>...</td>\n",
       "      <td>...</td>\n",
       "      <td>...</td>\n",
       "      <td>...</td>\n",
       "      <td>...</td>\n",
       "    </tr>\n",
       "    <tr>\n",
       "      <th>75</th>\n",
       "      <td>ФосАгро ао нераспр. прибыль</td>\n",
       "      <td>04.02.2020</td>\n",
       "      <td>48</td>\n",
       "      <td>2469</td>\n",
       "      <td>0.0</td>\n",
       "    </tr>\n",
       "    <tr>\n",
       "      <th>76</th>\n",
       "      <td>ФСК ЕЭС ао 9 мес. 2019</td>\n",
       "      <td>13.01.2020</td>\n",
       "      <td>0,008809608</td>\n",
       "      <td>0,2123</td>\n",
       "      <td>0.0</td>\n",
       "    </tr>\n",
       "    <tr>\n",
       "      <th>77</th>\n",
       "      <td>Черкизово ао 2019</td>\n",
       "      <td>07.04.2020</td>\n",
       "      <td>60,92</td>\n",
       "      <td>1995</td>\n",
       "      <td>0.0</td>\n",
       "    </tr>\n",
       "    <tr>\n",
       "      <th>78</th>\n",
       "      <td>ЧТПЗ ао 9 мес. 2019</td>\n",
       "      <td>09.01.2020</td>\n",
       "      <td>5,45</td>\n",
       "      <td>205</td>\n",
       "      <td>0.0</td>\n",
       "    </tr>\n",
       "    <tr>\n",
       "      <th>79</th>\n",
       "      <td>ЧТПЗ ао нераспр. прибыль</td>\n",
       "      <td>09.01.2020</td>\n",
       "      <td>4,37</td>\n",
       "      <td>205</td>\n",
       "      <td>0.0</td>\n",
       "    </tr>\n",
       "  </tbody>\n",
       "</table>\n",
       "<p>80 rows × 5 columns</p>\n",
       "</div>"
      ],
      "text/plain": [
       "                              names       dates        value    price  \\\n",
       "0         Норильский Никель ао 2019  25.05.2020        557,2    20104   \n",
       "1   TCS Group (Тинькофф) I кв. 2020  29.05.2020        $0,14   1049,6   \n",
       "2                    X5 Retail 2019  29.05.2020       110,47     2216   \n",
       "3                   ФСК ЕЭС ао 2019  29.05.2020  0,009494338  0,18694   \n",
       "4                 Интер РАО ао 2019  01.06.2020  0,196192529    4,656   \n",
       "..                              ...         ...          ...      ...   \n",
       "75      ФосАгро ао нераспр. прибыль  04.02.2020           48     2469   \n",
       "76           ФСК ЕЭС ао 9 мес. 2019  13.01.2020  0,008809608   0,2123   \n",
       "77                Черкизово ао 2019  07.04.2020        60,92     1995   \n",
       "78              ЧТПЗ ао 9 мес. 2019  09.01.2020         5,45      205   \n",
       "79         ЧТПЗ ао нераспр. прибыль  09.01.2020         4,37      205   \n",
       "\n",
       "    portfolio  \n",
       "0         0.0  \n",
       "1         0.0  \n",
       "2         0.0  \n",
       "3         0.0  \n",
       "4         0.0  \n",
       "..        ...  \n",
       "75        0.0  \n",
       "76        0.0  \n",
       "77        0.0  \n",
       "78        0.0  \n",
       "79        0.0  \n",
       "\n",
       "[80 rows x 5 columns]"
      ]
     },
     "execution_count": 202,
     "metadata": {},
     "output_type": "execute_result"
    }
   ],
   "source": [
    "df"
   ]
  },
  {
   "cell_type": "code",
   "execution_count": null,
   "metadata": {},
   "outputs": [],
   "source": []
  }
 ],
 "metadata": {
  "kernelspec": {
   "display_name": "Python 3",
   "language": "python",
   "name": "python3"
  },
  "language_info": {
   "codemirror_mode": {
    "name": "ipython",
    "version": 3
   },
   "file_extension": ".py",
   "mimetype": "text/x-python",
   "name": "python",
   "nbconvert_exporter": "python",
   "pygments_lexer": "ipython3",
   "version": "3.7.7"
  }
 },
 "nbformat": 4,
 "nbformat_minor": 4
}
