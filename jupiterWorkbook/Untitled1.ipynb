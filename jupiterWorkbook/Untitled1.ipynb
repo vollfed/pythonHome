{
 "cells": [
  {
   "cell_type": "code",
   "execution_count": 3,
   "metadata": {},
   "outputs": [],
   "source": [
    "import re\n",
    "import tensorflow as tf\n",
    "import numpy as np\n",
    "#import pandas as pd\n",
    "import matplotlib\n",
    "import matplotlib.pyplot as plt\n",
    "\n",
    "def preprocess_text(text):\n",
    "    text = text.lower().replace(\"ё\", \"е\")\n",
    "    #replace URL an NICKNAME\n",
    "    text = re.sub(r'((www\\.[^\\s]+)|(https?://[^\\s]+))', 'URL', text)\n",
    "    text = re.sub(r'@[^\\s]+', 'USER', text)\n",
    "    #delete words with letters-symbols and lang mix\n",
    "    text = re.sub(r'[\\W]+', ' ', text)\n",
    "    #delete predlogi\n",
    "    #text = re.sub(r'\\b[\\w]{,3}\\b', '', text)\n",
    "    text = re.sub(r'\\b[^не]{,3}\\b', ' ', text)\n",
    "    #delete tab symbols\n",
    "    text = re.sub(r'[\\s]+', ' ', text)\n",
    "    return text.strip()"
   ]
  },
  {
   "cell_type": "code",
   "execution_count": 13,
   "metadata": {},
   "outputs": [
    {
     "name": "stdout",
     "output_type": "stream",
     "text": [
      "Телефон Xiaomi Mi 9T, на нем не пользуюсь приложением порядка 5 месяцев нет. Последний месяц это ад, а не использование : в любой момент может начать дико тормозить, текст не вводится, лента не двигается, даже на касания не реагирует, причем все другие приложения на телефоне в этот момент летают. Сбрасывал\n",
      "_________________\n",
      "телефон xiaomi на нем  ААА  пользуюсь приложением порядка месяцев  ААА  последний месяц  ААА  использование любой момент может начать дико тормозить текст  ААА  вводится лента  ААА  двигается даже на касания  ААА  реагирует причем все другие приложения на телефоне этот момент летают сбрасывал\n"
     ]
    }
   ],
   "source": [
    " foo = \"Телефон Xiaomi Mi 9T, на нем не пользуюсь приложением порядка 5 месяцев нет. Последний месяц это ад, а не использование : в любой момент может начать дико тормозить, текст не вводится, лента не двигается, даже на касания не реагирует, причем все другие приложения на телефоне в этот момент летают. Сбрасывал\"\n",
    "    \n",
    " print(foo)\n",
    " print(\"_________________\")\n",
    "    \n",
    " foo = preprocess_text(foo)\n",
    " print(re.sub(r'\\b(не)\\b|\\b(нет)\\b', ' ААА ', foo))"
   ]
  },
  {
   "cell_type": "code",
   "execution_count": null,
   "metadata": {},
   "outputs": [],
   "source": []
  }
 ],
 "metadata": {
  "kernelspec": {
   "display_name": "Python 3",
   "language": "python",
   "name": "python3"
  },
  "language_info": {
   "codemirror_mode": {
    "name": "ipython",
    "version": 3
   },
   "file_extension": ".py",
   "mimetype": "text/x-python",
   "name": "python",
   "nbconvert_exporter": "python",
   "pygments_lexer": "ipython3",
   "version": "3.8.2"
  }
 },
 "nbformat": 4,
 "nbformat_minor": 4
}
