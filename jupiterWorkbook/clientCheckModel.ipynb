{
 "cells": [
  {
   "cell_type": "code",
   "execution_count": 97,
   "metadata": {},
   "outputs": [],
   "source": [
    "import numpy as np\n",
    "import pandas as pd\n",
    "from tensorflow.keras.models import load_model\n",
    "\n",
    "n=['str','ind']\n",
    "df = pd.read_csv(\"comment_dict.csv\",names=n, index_col='ind')\n",
    "df.dropna(inplace = True) \n",
    "\n"
   ]
  },
  {
   "cell_type": "code",
   "execution_count": 93,
   "metadata": {},
   "outputs": [],
   "source": [
    "value = df.to_dict().get('str')\n",
    "index={}\n",
    "NUM=10000\n",
    "\n",
    "for k, v in value.items():\n",
    "    index[v] = k\n",
    "\n",
    "#we will use only NUM top used words as comp nerezinovi\n",
    "def get_my_sequences(comment_p):\n",
    "    result = [index.get(str,1) for str in comment_p.split(' ') if index.get(str,1) < NUM]\n",
    "    return result\n",
    "\n",
    "def vectorize(sequences, dimension = NUM):\n",
    "    results = np.zeros((len(sequences), dimension))\n",
    "    for i, sequence in enumerate(sequences):\n",
    "        results[i, sequence] = 1\n",
    "    return results\n",
    "\n",
    "def preprocess_text(text):\n",
    "    text = text.lower().replace(\"ё\", \"е\")\n",
    "    #replace URL an NICKNAME\n",
    "    text = re.sub(r'((www\\.[^\\s]+)|(https?://[^\\s]+))', 'URL', text)\n",
    "    text = re.sub(r'@[^\\s]+', 'USER', text)\n",
    "    #delete words with letters-symbols and lang mix\n",
    "    text = re.sub(r'[\\W]+', ' ', text)\n",
    "    #delete predlogi\n",
    "    text = re.sub(r'\\b[\\w]{,3}\\b', '', text)\n",
    "    #delete tab symbols\n",
    "    text = re.sub(r'[\\s]+', ' ', text)\n",
    "    return text.strip()"
   ]
  },
  {
   "cell_type": "code",
   "execution_count": 94,
   "metadata": {},
   "outputs": [
    {
     "name": "stdout",
     "output_type": "stream",
     "text": [
      "прекрасный наполненный смыслом и радостью фильм понравился очень\n",
      "этот фильм полный шлак посмотрел самый худший фильм видел оценка минус один нуля\n",
      "\n",
      "Get index \n",
      "\n",
      "[[1343, 1, 8501, 2303, 151, 884, 8]]\n",
      "[[48, 151, 1031, 735, 154, 6618, 151, 451, 4909, 1078, 62]]\n"
     ]
    }
   ],
   "source": [
    "testPositive = \"прекрасный наполненный смыслом и радостью фильм понравился очень\"\n",
    "testNegative = \"этот фильм полный шлак посмотрел самый худший фильм видел оценка минус один нуля\"\n",
    "\n",
    "print(testPositive)\n",
    "print(testNegative)\n",
    "\n",
    "testPositiveArr = [1]\n",
    "testNegativeArr = [1]\n",
    "\n",
    "print(\"\\n\"+\"Get index \"+\"\\n\")\n",
    "\n",
    "testPositiveArr[0] = get_my_sequences(testPositive)\n",
    "testNegativeArr[0] = get_my_sequences(testNegative)\n",
    "\n",
    "print(testPositiveArr)\n",
    "print(testNegativeArr)"
   ]
  },
  {
   "cell_type": "code",
   "execution_count": 98,
   "metadata": {},
   "outputs": [],
   "source": [
    "model=load_model('sevestest')"
   ]
  },
  {
   "cell_type": "code",
   "execution_count": 99,
   "metadata": {},
   "outputs": [
    {
     "name": "stdout",
     "output_type": "stream",
     "text": [
      "Positive: 0.6054997\n",
      "Negative: 0.023200605\n"
     ]
    }
   ],
   "source": [
    "testPositiveArrINDX = vectorize(testPositiveArr)\n",
    "testNegativeArrINDX = vectorize(testNegativeArr)\n",
    "\n",
    "predictPositive = model.predict(testPositiveArrINDX)\n",
    "predictNegative = model.predict(testNegativeArrINDX)\n",
    "\n",
    "print('Positive: ' + str(predictPositive[0][0]))\n",
    "print('Negative: ' + str(predictNegative[0][0]))"
   ]
  },
  {
   "cell_type": "code",
   "execution_count": null,
   "metadata": {},
   "outputs": [],
   "source": []
  }
 ],
 "metadata": {
  "kernelspec": {
   "display_name": "Python 3",
   "language": "python",
   "name": "python3"
  },
  "language_info": {
   "codemirror_mode": {
    "name": "ipython",
    "version": 3
   },
   "file_extension": ".py",
   "mimetype": "text/x-python",
   "name": "python",
   "nbconvert_exporter": "python",
   "pygments_lexer": "ipython3",
   "version": "3.7.7"
  }
 },
 "nbformat": 4,
 "nbformat_minor": 4
}
